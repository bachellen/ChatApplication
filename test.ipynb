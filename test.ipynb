{
 "cells": [
  {
   "cell_type": "code",
   "execution_count": 1,
   "metadata": {},
   "outputs": [
    {
     "name": "stdout",
     "output_type": "stream",
     "text": [
      "Muhailah) hhh\n"
     ]
    }
   ],
   "source": [
    "message = \"(Muhailah) hhh\"\n",
    "stripped_message = message.strip(\"()\")\n",
    "print(stripped_message)"
   ]
  },
  {
   "cell_type": "code",
   "execution_count": 2,
   "metadata": {},
   "outputs": [
    {
     "name": "stdout",
     "output_type": "stream",
     "text": [
      "Muhailah\n",
      "hello welcome\n"
     ]
    }
   ],
   "source": [
    "msg = \"(Muhailah) hello welcome\"\n",
    "parts = msg.split(' ', 1)\n",
    "dest_id= parts[0].replace(\"(\", \"\").replace(\")\", \"\")\n",
    "print(dest_id)\n",
    "message = \"\".join(parts[1:])\n",
    "print(message)"
   ]
  }
 ],
 "metadata": {
  "kernelspec": {
   "display_name": "Python 3",
   "language": "python",
   "name": "python3"
  },
  "language_info": {
   "codemirror_mode": {
    "name": "ipython",
    "version": 3
   },
   "file_extension": ".py",
   "mimetype": "text/x-python",
   "name": "python",
   "nbconvert_exporter": "python",
   "pygments_lexer": "ipython3",
   "version": "3.9.6"
  }
 },
 "nbformat": 4,
 "nbformat_minor": 2
}
